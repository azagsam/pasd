{
 "cells": [
  {
   "cell_type": "code",
   "execution_count": 205,
   "metadata": {
    "collapsed": true,
    "pycharm": {
     "name": "#%%\n"
    }
   },
   "outputs": [],
   "source": [
    "import numpy as np\n",
    "import pandas as pd\n",
    "from scipy.io.arff import loadarff\n",
    "import tensorflow as tf\n",
    "from keras.layers import Dense\n",
    "from keras.models import Sequential, load_model\n",
    "from sklearn.model_selection import train_test_split"
   ]
  },
  {
   "cell_type": "code",
   "execution_count": 206,
   "outputs": [],
   "source": [
    "# util functions\n",
    "def normalize(df):\n",
    "    result = df.copy()\n",
    "    for feature_name in df.columns:\n",
    "        max_value = df[feature_name].max()\n",
    "        min_value = df[feature_name].min()\n",
    "        result[feature_name] = (df[feature_name] - min_value) / (max_value - min_value)\n",
    "    return result\n",
    "\n",
    "\n",
    "def pattern_accuracy(y_true, y_pred):\n",
    "    return np.sum(np.all(y_true == y_pred, axis=1)) / y_true.shape[0]\n",
    "\n",
    "\n",
    "binary_accuracy = tf.keras.metrics.BinaryAccuracy(\n",
    "    name=\"binary_accuracy\", dtype=None, threshold=0.5\n",
    ")"
   ],
   "metadata": {
    "collapsed": false,
    "pycharm": {
     "name": "#%%\n"
    }
   }
  },
  {
   "cell_type": "code",
   "execution_count": 207,
   "outputs": [
    {
     "data": {
      "text/plain": "   Mean_Acc1298_Mean_Mem40_Centroid  Mean_Acc1298_Mean_Mem40_Rolloff  \\\n0                          0.034741                         0.089665   \n1                          0.081374                         0.272747   \n2                          0.110545                         0.273567   \n3                          0.042481                         0.199281   \n4                          0.074550                         0.140880   \n\n   Mean_Acc1298_Mean_Mem40_Flux  Mean_Acc1298_Mean_Mem40_MFCC_0  \\\n0                      0.091225                      -73.302422   \n1                      0.085733                      -62.584437   \n2                      0.084410                      -65.235325   \n3                      0.093447                      -80.305152   \n4                      0.079789                      -93.697749   \n\n   Mean_Acc1298_Mean_Mem40_MFCC_1  Mean_Acc1298_Mean_Mem40_MFCC_2  \\\n0                        6.215179                        0.615074   \n1                        3.183163                       -0.218145   \n2                        2.794964                        0.639047   \n3                        5.824409                        0.648848   \n4                        5.543229                        1.064262   \n\n   Mean_Acc1298_Mean_Mem40_MFCC_3  Mean_Acc1298_Mean_Mem40_MFCC_4  \\\n0                        2.037160                        0.804065   \n1                        0.163038                        0.620251   \n2                        1.281297                        0.757896   \n3                        1.754870                        1.495532   \n4                        0.899152                        0.890336   \n\n   Mean_Acc1298_Mean_Mem40_MFCC_5  Mean_Acc1298_Mean_Mem40_MFCC_6  ...  \\\n0                        1.301409                        0.558576  ...   \n1                        0.458514                        0.041426  ...   \n2                        0.489412                        0.627636  ...   \n3                        0.739909                        0.809644  ...   \n4                        0.702328                        0.490685  ...   \n\n   BH_HighLowRatio    BHSUM1    BHSUM2    BHSUM3  amazed-suprised  \\\n0              2.0  0.245457  0.105065  0.405399             b'0'   \n1              2.0  0.343547  0.276366  0.710924             b'1'   \n2              3.0  0.188693  0.045941  0.457372             b'0'   \n3              2.0  0.102839  0.241934  0.351009             b'0'   \n4              2.0  0.195196  0.310801  0.683817             b'0'   \n\n   happy-pleased  relaxing-calm  quiet-still  sad-lonely  angry-aggresive  \n0           b'1'           b'1'         b'0'        b'0'             b'0'  \n1           b'0'           b'0'         b'0'        b'0'             b'1'  \n2           b'1'           b'0'         b'0'        b'0'             b'1'  \n3           b'0'           b'1'         b'0'        b'0'             b'0'  \n4           b'0'           b'0'         b'1'        b'0'             b'0'  \n\n[5 rows x 78 columns]",
      "text/html": "<div>\n<style scoped>\n    .dataframe tbody tr th:only-of-type {\n        vertical-align: middle;\n    }\n\n    .dataframe tbody tr th {\n        vertical-align: top;\n    }\n\n    .dataframe thead th {\n        text-align: right;\n    }\n</style>\n<table border=\"1\" class=\"dataframe\">\n  <thead>\n    <tr style=\"text-align: right;\">\n      <th></th>\n      <th>Mean_Acc1298_Mean_Mem40_Centroid</th>\n      <th>Mean_Acc1298_Mean_Mem40_Rolloff</th>\n      <th>Mean_Acc1298_Mean_Mem40_Flux</th>\n      <th>Mean_Acc1298_Mean_Mem40_MFCC_0</th>\n      <th>Mean_Acc1298_Mean_Mem40_MFCC_1</th>\n      <th>Mean_Acc1298_Mean_Mem40_MFCC_2</th>\n      <th>Mean_Acc1298_Mean_Mem40_MFCC_3</th>\n      <th>Mean_Acc1298_Mean_Mem40_MFCC_4</th>\n      <th>Mean_Acc1298_Mean_Mem40_MFCC_5</th>\n      <th>Mean_Acc1298_Mean_Mem40_MFCC_6</th>\n      <th>...</th>\n      <th>BH_HighLowRatio</th>\n      <th>BHSUM1</th>\n      <th>BHSUM2</th>\n      <th>BHSUM3</th>\n      <th>amazed-suprised</th>\n      <th>happy-pleased</th>\n      <th>relaxing-calm</th>\n      <th>quiet-still</th>\n      <th>sad-lonely</th>\n      <th>angry-aggresive</th>\n    </tr>\n  </thead>\n  <tbody>\n    <tr>\n      <th>0</th>\n      <td>0.034741</td>\n      <td>0.089665</td>\n      <td>0.091225</td>\n      <td>-73.302422</td>\n      <td>6.215179</td>\n      <td>0.615074</td>\n      <td>2.037160</td>\n      <td>0.804065</td>\n      <td>1.301409</td>\n      <td>0.558576</td>\n      <td>...</td>\n      <td>2.0</td>\n      <td>0.245457</td>\n      <td>0.105065</td>\n      <td>0.405399</td>\n      <td>b'0'</td>\n      <td>b'1'</td>\n      <td>b'1'</td>\n      <td>b'0'</td>\n      <td>b'0'</td>\n      <td>b'0'</td>\n    </tr>\n    <tr>\n      <th>1</th>\n      <td>0.081374</td>\n      <td>0.272747</td>\n      <td>0.085733</td>\n      <td>-62.584437</td>\n      <td>3.183163</td>\n      <td>-0.218145</td>\n      <td>0.163038</td>\n      <td>0.620251</td>\n      <td>0.458514</td>\n      <td>0.041426</td>\n      <td>...</td>\n      <td>2.0</td>\n      <td>0.343547</td>\n      <td>0.276366</td>\n      <td>0.710924</td>\n      <td>b'1'</td>\n      <td>b'0'</td>\n      <td>b'0'</td>\n      <td>b'0'</td>\n      <td>b'0'</td>\n      <td>b'1'</td>\n    </tr>\n    <tr>\n      <th>2</th>\n      <td>0.110545</td>\n      <td>0.273567</td>\n      <td>0.084410</td>\n      <td>-65.235325</td>\n      <td>2.794964</td>\n      <td>0.639047</td>\n      <td>1.281297</td>\n      <td>0.757896</td>\n      <td>0.489412</td>\n      <td>0.627636</td>\n      <td>...</td>\n      <td>3.0</td>\n      <td>0.188693</td>\n      <td>0.045941</td>\n      <td>0.457372</td>\n      <td>b'0'</td>\n      <td>b'1'</td>\n      <td>b'0'</td>\n      <td>b'0'</td>\n      <td>b'0'</td>\n      <td>b'1'</td>\n    </tr>\n    <tr>\n      <th>3</th>\n      <td>0.042481</td>\n      <td>0.199281</td>\n      <td>0.093447</td>\n      <td>-80.305152</td>\n      <td>5.824409</td>\n      <td>0.648848</td>\n      <td>1.754870</td>\n      <td>1.495532</td>\n      <td>0.739909</td>\n      <td>0.809644</td>\n      <td>...</td>\n      <td>2.0</td>\n      <td>0.102839</td>\n      <td>0.241934</td>\n      <td>0.351009</td>\n      <td>b'0'</td>\n      <td>b'0'</td>\n      <td>b'1'</td>\n      <td>b'0'</td>\n      <td>b'0'</td>\n      <td>b'0'</td>\n    </tr>\n    <tr>\n      <th>4</th>\n      <td>0.074550</td>\n      <td>0.140880</td>\n      <td>0.079789</td>\n      <td>-93.697749</td>\n      <td>5.543229</td>\n      <td>1.064262</td>\n      <td>0.899152</td>\n      <td>0.890336</td>\n      <td>0.702328</td>\n      <td>0.490685</td>\n      <td>...</td>\n      <td>2.0</td>\n      <td>0.195196</td>\n      <td>0.310801</td>\n      <td>0.683817</td>\n      <td>b'0'</td>\n      <td>b'0'</td>\n      <td>b'0'</td>\n      <td>b'1'</td>\n      <td>b'0'</td>\n      <td>b'0'</td>\n    </tr>\n  </tbody>\n</table>\n<p>5 rows × 78 columns</p>\n</div>"
     },
     "execution_count": 207,
     "metadata": {},
     "output_type": "execute_result"
    }
   ],
   "source": [
    "# import data\n",
    "raw_data = loadarff(\"emotions_train.arff\")\n",
    "df = pd.DataFrame(raw_data[0])\n",
    "df.head()"
   ],
   "metadata": {
    "collapsed": false,
    "pycharm": {
     "name": "#%%\n"
    }
   }
  },
  {
   "cell_type": "code",
   "execution_count": 208,
   "outputs": [],
   "source": [
    "# preprocess data, normalize input to 0-1 scale\n",
    "X = df.iloc[:,:-6]\n",
    "X = normalize(X)\n",
    "\n",
    "y = df.iloc[:, 72:]\n",
    "for col in y.columns:\n",
    "    y[col] = y[col].apply(lambda x: int(x.decode('utf-8')))"
   ],
   "metadata": {
    "collapsed": false,
    "pycharm": {
     "name": "#%%\n"
    }
   }
  },
  {
   "cell_type": "code",
   "execution_count": 209,
   "outputs": [],
   "source": [
    "# split data into train/val\n",
    "X_train, X_test, y_train, y_test = train_test_split(X, y, test_size=0.1, random_state=42)"
   ],
   "metadata": {
    "collapsed": false,
    "pycharm": {
     "name": "#%%\n"
    }
   }
  },
  {
   "cell_type": "code",
   "execution_count": 210,
   "outputs": [
    {
     "name": "stdout",
     "output_type": "stream",
     "text": [
      "Model: \"sequential_19\"\n",
      "_________________________________________________________________\n",
      " Layer (type)                Output Shape              Param #   \n",
      "=================================================================\n",
      " dense_42 (Dense)            (None, 512)               37376     \n",
      "                                                                 \n",
      " dense_43 (Dense)            (None, 6)                 3078      \n",
      "                                                                 \n",
      "=================================================================\n",
      "Total params: 40,454\n",
      "Trainable params: 40,454\n",
      "Non-trainable params: 0\n",
      "_________________________________________________________________\n"
     ]
    }
   ],
   "source": [
    "# build model\n",
    "model = Sequential()\n",
    "model.add(Dense(512, input_dim=X_train.shape[1], kernel_initializer='uniform', activation='sigmoid'))\n",
    "model.add(Dense(y_train.shape[1], kernel_initializer='uniform', activation='sigmoid'))\n",
    "model.compile(optimizer='adam', loss='binary_crossentropy', metrics=['binary_accuracy'])\n",
    "model.summary()\n",
    "\n",
    "# define callback\n",
    "callback = tf.keras.callbacks.EarlyStopping(monitor='val_loss', patience=10)"
   ],
   "metadata": {
    "collapsed": false,
    "pycharm": {
     "name": "#%%\n"
    }
   }
  },
  {
   "cell_type": "code",
   "execution_count": 211,
   "outputs": [
    {
     "name": "stdout",
     "output_type": "stream",
     "text": [
      "Epoch 1/100\n",
      "35/35 [==============================] - 1s 9ms/step - loss: 0.6166 - binary_accuracy: 0.6845 - val_loss: 0.5684 - val_binary_accuracy: 0.7254\n",
      "Epoch 2/100\n",
      "35/35 [==============================] - 0s 3ms/step - loss: 0.5965 - binary_accuracy: 0.6970 - val_loss: 0.5644 - val_binary_accuracy: 0.7465\n",
      "Epoch 3/100\n",
      "35/35 [==============================] - 0s 4ms/step - loss: 0.5857 - binary_accuracy: 0.7048 - val_loss: 0.5653 - val_binary_accuracy: 0.7465\n",
      "Epoch 4/100\n",
      "35/35 [==============================] - 0s 4ms/step - loss: 0.5672 - binary_accuracy: 0.7101 - val_loss: 0.5470 - val_binary_accuracy: 0.7394\n",
      "Epoch 5/100\n",
      "35/35 [==============================] - 0s 3ms/step - loss: 0.5461 - binary_accuracy: 0.7161 - val_loss: 0.5451 - val_binary_accuracy: 0.7488\n",
      "Epoch 6/100\n",
      "35/35 [==============================] - 0s 3ms/step - loss: 0.5333 - binary_accuracy: 0.7232 - val_loss: 0.4917 - val_binary_accuracy: 0.7582\n",
      "Epoch 7/100\n",
      "35/35 [==============================] - 0s 3ms/step - loss: 0.5120 - binary_accuracy: 0.7464 - val_loss: 0.4880 - val_binary_accuracy: 0.7817\n",
      "Epoch 8/100\n",
      "35/35 [==============================] - 0s 3ms/step - loss: 0.5098 - binary_accuracy: 0.7571 - val_loss: 0.4604 - val_binary_accuracy: 0.7723\n",
      "Epoch 9/100\n",
      "35/35 [==============================] - 0s 3ms/step - loss: 0.4883 - binary_accuracy: 0.7631 - val_loss: 0.4874 - val_binary_accuracy: 0.7535\n",
      "Epoch 10/100\n",
      "35/35 [==============================] - 0s 3ms/step - loss: 0.4869 - binary_accuracy: 0.7631 - val_loss: 0.4600 - val_binary_accuracy: 0.7582\n",
      "Epoch 11/100\n",
      "35/35 [==============================] - 0s 3ms/step - loss: 0.4786 - binary_accuracy: 0.7601 - val_loss: 0.4517 - val_binary_accuracy: 0.7746\n",
      "Epoch 12/100\n",
      "35/35 [==============================] - 0s 2ms/step - loss: 0.4714 - binary_accuracy: 0.7738 - val_loss: 0.4629 - val_binary_accuracy: 0.7864\n",
      "Epoch 13/100\n",
      "35/35 [==============================] - 0s 3ms/step - loss: 0.4644 - binary_accuracy: 0.7786 - val_loss: 0.4377 - val_binary_accuracy: 0.8028\n",
      "Epoch 14/100\n",
      "35/35 [==============================] - 0s 2ms/step - loss: 0.4649 - binary_accuracy: 0.7780 - val_loss: 0.4432 - val_binary_accuracy: 0.7958\n",
      "Epoch 15/100\n",
      "35/35 [==============================] - 0s 2ms/step - loss: 0.4684 - binary_accuracy: 0.7762 - val_loss: 0.4419 - val_binary_accuracy: 0.7793\n",
      "Epoch 16/100\n",
      "35/35 [==============================] - 0s 2ms/step - loss: 0.4546 - binary_accuracy: 0.7833 - val_loss: 0.4495 - val_binary_accuracy: 0.7746\n",
      "Epoch 17/100\n",
      "35/35 [==============================] - 0s 3ms/step - loss: 0.4522 - binary_accuracy: 0.7875 - val_loss: 0.4520 - val_binary_accuracy: 0.7840\n",
      "Epoch 18/100\n",
      "35/35 [==============================] - 0s 2ms/step - loss: 0.4527 - binary_accuracy: 0.7762 - val_loss: 0.4360 - val_binary_accuracy: 0.7981\n",
      "Epoch 19/100\n",
      "35/35 [==============================] - 0s 2ms/step - loss: 0.4494 - binary_accuracy: 0.7851 - val_loss: 0.4442 - val_binary_accuracy: 0.7817\n",
      "Epoch 20/100\n",
      "35/35 [==============================] - 0s 3ms/step - loss: 0.4398 - binary_accuracy: 0.7923 - val_loss: 0.4339 - val_binary_accuracy: 0.7887\n",
      "Epoch 21/100\n",
      "35/35 [==============================] - 0s 3ms/step - loss: 0.4400 - binary_accuracy: 0.7958 - val_loss: 0.4472 - val_binary_accuracy: 0.7840\n",
      "Epoch 22/100\n",
      "35/35 [==============================] - 0s 3ms/step - loss: 0.4435 - binary_accuracy: 0.7863 - val_loss: 0.4319 - val_binary_accuracy: 0.8052\n",
      "Epoch 23/100\n",
      "35/35 [==============================] - 0s 3ms/step - loss: 0.4404 - binary_accuracy: 0.7964 - val_loss: 0.4364 - val_binary_accuracy: 0.7887\n",
      "Epoch 24/100\n",
      "35/35 [==============================] - 0s 4ms/step - loss: 0.4334 - binary_accuracy: 0.8024 - val_loss: 0.4590 - val_binary_accuracy: 0.7653\n",
      "Epoch 25/100\n",
      "35/35 [==============================] - 0s 3ms/step - loss: 0.4333 - binary_accuracy: 0.7970 - val_loss: 0.4632 - val_binary_accuracy: 0.7606\n",
      "Epoch 26/100\n",
      "35/35 [==============================] - 0s 3ms/step - loss: 0.4308 - binary_accuracy: 0.8018 - val_loss: 0.4522 - val_binary_accuracy: 0.7723\n",
      "Epoch 27/100\n",
      "35/35 [==============================] - 0s 3ms/step - loss: 0.4267 - binary_accuracy: 0.7964 - val_loss: 0.4469 - val_binary_accuracy: 0.7746\n",
      "Epoch 28/100\n",
      "35/35 [==============================] - 0s 2ms/step - loss: 0.4257 - binary_accuracy: 0.8012 - val_loss: 0.4384 - val_binary_accuracy: 0.7864\n",
      "Epoch 29/100\n",
      "35/35 [==============================] - 0s 3ms/step - loss: 0.4202 - binary_accuracy: 0.8036 - val_loss: 0.4261 - val_binary_accuracy: 0.7981\n",
      "Epoch 30/100\n",
      "35/35 [==============================] - 0s 3ms/step - loss: 0.4212 - binary_accuracy: 0.8024 - val_loss: 0.4289 - val_binary_accuracy: 0.8028\n",
      "Epoch 31/100\n",
      "35/35 [==============================] - 0s 2ms/step - loss: 0.4166 - binary_accuracy: 0.8101 - val_loss: 0.4395 - val_binary_accuracy: 0.7793\n",
      "Epoch 32/100\n",
      "35/35 [==============================] - 0s 2ms/step - loss: 0.4168 - binary_accuracy: 0.8065 - val_loss: 0.4298 - val_binary_accuracy: 0.7934\n",
      "Epoch 33/100\n",
      "35/35 [==============================] - 0s 2ms/step - loss: 0.4148 - binary_accuracy: 0.8065 - val_loss: 0.4278 - val_binary_accuracy: 0.7864\n",
      "Epoch 34/100\n",
      "35/35 [==============================] - 0s 2ms/step - loss: 0.4173 - binary_accuracy: 0.8089 - val_loss: 0.4499 - val_binary_accuracy: 0.7770\n",
      "Epoch 35/100\n",
      "35/35 [==============================] - 0s 2ms/step - loss: 0.4129 - binary_accuracy: 0.8107 - val_loss: 0.4324 - val_binary_accuracy: 0.7934\n",
      "Epoch 36/100\n",
      "35/35 [==============================] - 0s 2ms/step - loss: 0.4092 - binary_accuracy: 0.8143 - val_loss: 0.4459 - val_binary_accuracy: 0.7887\n",
      "Epoch 37/100\n",
      "35/35 [==============================] - 0s 2ms/step - loss: 0.4107 - binary_accuracy: 0.8125 - val_loss: 0.4331 - val_binary_accuracy: 0.7911\n",
      "Epoch 38/100\n",
      "35/35 [==============================] - 0s 2ms/step - loss: 0.4068 - binary_accuracy: 0.8149 - val_loss: 0.4317 - val_binary_accuracy: 0.7840\n",
      "Epoch 39/100\n",
      "35/35 [==============================] - 0s 2ms/step - loss: 0.4064 - binary_accuracy: 0.8113 - val_loss: 0.4322 - val_binary_accuracy: 0.7887\n"
     ]
    }
   ],
   "source": [
    "# train\n",
    "history = model.fit(X_train, y_train,\n",
    "                    batch_size=8,\n",
    "                    epochs=100,\n",
    "                    verbose=1,\n",
    "                    validation_split=.2,\n",
    "                    callbacks=[callback])"
   ],
   "metadata": {
    "collapsed": false,
    "pycharm": {
     "name": "#%%\n"
    }
   }
  },
  {
   "cell_type": "code",
   "execution_count": 212,
   "outputs": [],
   "source": [
    "# save or load model\n",
    "model.save('output/emotions-model.h5')\n",
    "model = load_model('output/emotions-model.h5')"
   ],
   "metadata": {
    "collapsed": false,
    "pycharm": {
     "name": "#%%\n"
    }
   }
  },
  {
   "cell_type": "code",
   "execution_count": 213,
   "outputs": [],
   "source": [
    "# predict\n",
    "y_pred = model.predict(X_test)\n",
    "y_pred = np.where(y_pred > 0.5, 1, 0)\n",
    "random_model = np.random.randint(2, size=(y_pred.shape[0], y_pred.shape[1]))"
   ],
   "metadata": {
    "collapsed": false,
    "pycharm": {
     "name": "#%%\n"
    }
   }
  },
  {
   "cell_type": "code",
   "execution_count": 214,
   "outputs": [
    {
     "name": "stdout",
     "output_type": "stream",
     "text": [
      "Random Model\n",
      "Binary accuracy:  tf.Tensor(0.6166667, shape=(), dtype=float32)\n",
      "Pattern accuracy:  0.075\n",
      "\n",
      "NN\n",
      "Binary accuracy:  tf.Tensor(0.7041667, shape=(), dtype=float32)\n",
      "Pattern accuracy:  0.25\n"
     ]
    }
   ],
   "source": [
    "# evaluate random model\n",
    "print('Random Model')\n",
    "print(\"Binary accuracy: \", binary_accuracy(y_test, random_model))\n",
    "print(\"Pattern accuracy: \",pattern_accuracy(y_test, random_model))\n",
    "\n",
    "# evaluate NN\n",
    "print(\"\\nNN\")\n",
    "print(\"Binary accuracy: \", binary_accuracy(y_test, y_pred))\n",
    "print(\"Pattern accuracy: \",pattern_accuracy(y_test, y_pred))"
   ],
   "metadata": {
    "collapsed": false,
    "pycharm": {
     "name": "#%%\n"
    }
   }
  },
  {
   "cell_type": "code",
   "execution_count": 214,
   "outputs": [],
   "source": [],
   "metadata": {
    "collapsed": false,
    "pycharm": {
     "name": "#%%\n"
    }
   }
  }
 ],
 "metadata": {
  "kernelspec": {
   "display_name": "Python 3",
   "language": "python",
   "name": "python3"
  },
  "language_info": {
   "codemirror_mode": {
    "name": "ipython",
    "version": 2
   },
   "file_extension": ".py",
   "mimetype": "text/x-python",
   "name": "python",
   "nbconvert_exporter": "python",
   "pygments_lexer": "ipython2",
   "version": "2.7.6"
  }
 },
 "nbformat": 4,
 "nbformat_minor": 0
}