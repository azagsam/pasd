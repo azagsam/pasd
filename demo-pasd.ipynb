{
 "cells": [
  {
   "cell_type": "code",
   "execution_count": 151,
   "metadata": {
    "collapsed": true
   },
   "outputs": [],
   "source": [
    "import numpy as np\n",
    "import pandas as pd\n",
    "from scipy.io.arff import loadarff\n",
    "import tensorflow as tf\n",
    "from keras.layers import Dense\n",
    "from keras.models import Sequential, load_model\n",
    "from sklearn.model_selection import train_test_split"
   ]
  },
  {
   "cell_type": "code",
   "execution_count": 152,
   "outputs": [],
   "source": [
    "# util functions\n",
    "def normalize(df):\n",
    "    result = df.copy()\n",
    "    for feature_name in df.columns:\n",
    "        max_value = df[feature_name].max()\n",
    "        min_value = df[feature_name].min()\n",
    "        result[feature_name] = (df[feature_name] - min_value) / (max_value - min_value)\n",
    "    return result\n",
    "\n",
    "\n",
    "def pattern_accuracy(y_true, y_pred):\n",
    "    return np.sum(np.all(y_true == y_pred, axis=1)) / y_true.shape[0]\n",
    "\n",
    "\n",
    "tf.keras.metrics.BinaryAccuracy(\n",
    "    name=\"binary_accuracy\", dtype=None, threshold=0.5\n",
    ")\n",
    "binary_accuracy = tf.keras.metrics.BinaryAccuracy()"
   ],
   "metadata": {
    "collapsed": false,
    "pycharm": {
     "name": "#%%\n"
    }
   }
  },
  {
   "cell_type": "code",
   "execution_count": 153,
   "outputs": [],
   "source": [
    "# import data\n",
    "raw_data = loadarff(\"emotions_train.arff\")\n",
    "df = pd.DataFrame(raw_data[0])"
   ],
   "metadata": {
    "collapsed": false,
    "pycharm": {
     "name": "#%%\n"
    }
   }
  },
  {
   "cell_type": "code",
   "execution_count": 154,
   "outputs": [],
   "source": [
    "# preprocess data, normalize input to 0-1 scale\n",
    "X = df.iloc[:,:-6]\n",
    "norm_X = normalize(X)\n",
    "\n",
    "y = df.iloc[:, 72:]\n",
    "for col in y.columns:\n",
    "    y[col] = y[col].apply(lambda x: int(x.decode('utf-8')))"
   ],
   "metadata": {
    "collapsed": false,
    "pycharm": {
     "name": "#%%\n"
    }
   }
  },
  {
   "cell_type": "code",
   "execution_count": 155,
   "outputs": [],
   "source": [
    "# split data into train/val\n",
    "X_train, X_test, y_train, y_test = train_test_split(X, y, test_size=0.1, random_state=42)"
   ],
   "metadata": {
    "collapsed": false,
    "pycharm": {
     "name": "#%%\n"
    }
   }
  },
  {
   "cell_type": "code",
   "execution_count": 156,
   "outputs": [
    {
     "name": "stdout",
     "output_type": "stream",
     "text": [
      "Model: \"sequential_15\"\n",
      "_________________________________________________________________\n",
      " Layer (type)                Output Shape              Param #   \n",
      "=================================================================\n",
      " dense_34 (Dense)            (None, 512)               37376     \n",
      "                                                                 \n",
      " dense_35 (Dense)            (None, 6)                 3078      \n",
      "                                                                 \n",
      "=================================================================\n",
      "Total params: 40,454\n",
      "Trainable params: 40,454\n",
      "Non-trainable params: 0\n",
      "_________________________________________________________________\n"
     ]
    }
   ],
   "source": [
    "# build model\n",
    "callback = tf.keras.callbacks.EarlyStopping(monitor='val_loss', patience=25)\n",
    "model = Sequential()\n",
    "model.add(Dense(512, input_dim=X_train.shape[1], kernel_initializer='uniform', activation='sigmoid'))\n",
    "model.add(Dense(y_train.shape[1], kernel_initializer='uniform', activation='sigmoid'))\n",
    "model.compile(optimizer='adam', loss='binary_crossentropy', metrics=['binary_accuracy'])\n",
    "model.summary()"
   ],
   "metadata": {
    "collapsed": false,
    "pycharm": {
     "name": "#%%\n"
    }
   }
  },
  {
   "cell_type": "code",
   "execution_count": 157,
   "outputs": [
    {
     "name": "stdout",
     "output_type": "stream",
     "text": [
      "Epoch 1/100\n",
      "35/35 [==============================] - 1s 7ms/step - loss: 0.6402 - binary_accuracy: 0.6679 - val_loss: 0.6282 - val_binary_accuracy: 0.7254\n",
      "Epoch 2/100\n",
      "35/35 [==============================] - 0s 3ms/step - loss: 0.6123 - binary_accuracy: 0.6917 - val_loss: 0.5520 - val_binary_accuracy: 0.7254\n",
      "Epoch 3/100\n",
      "35/35 [==============================] - 0s 3ms/step - loss: 0.6057 - binary_accuracy: 0.6994 - val_loss: 0.5616 - val_binary_accuracy: 0.7254\n",
      "Epoch 4/100\n",
      "35/35 [==============================] - 0s 3ms/step - loss: 0.5818 - binary_accuracy: 0.7030 - val_loss: 0.5332 - val_binary_accuracy: 0.7371\n",
      "Epoch 5/100\n",
      "35/35 [==============================] - 0s 3ms/step - loss: 0.5733 - binary_accuracy: 0.6988 - val_loss: 0.5019 - val_binary_accuracy: 0.7770\n",
      "Epoch 6/100\n",
      "35/35 [==============================] - 0s 3ms/step - loss: 0.5504 - binary_accuracy: 0.7250 - val_loss: 0.5047 - val_binary_accuracy: 0.7254\n",
      "Epoch 7/100\n",
      "35/35 [==============================] - 0s 3ms/step - loss: 0.5351 - binary_accuracy: 0.7268 - val_loss: 0.4786 - val_binary_accuracy: 0.7723\n",
      "Epoch 8/100\n",
      "35/35 [==============================] - 0s 3ms/step - loss: 0.5099 - binary_accuracy: 0.7482 - val_loss: 0.4743 - val_binary_accuracy: 0.7793\n",
      "Epoch 9/100\n",
      "35/35 [==============================] - 0s 4ms/step - loss: 0.4998 - binary_accuracy: 0.7530 - val_loss: 0.4677 - val_binary_accuracy: 0.7676\n",
      "Epoch 10/100\n",
      "35/35 [==============================] - 0s 4ms/step - loss: 0.4935 - binary_accuracy: 0.7631 - val_loss: 0.4782 - val_binary_accuracy: 0.7559\n",
      "Epoch 11/100\n",
      "35/35 [==============================] - 0s 3ms/step - loss: 0.4880 - binary_accuracy: 0.7637 - val_loss: 0.4976 - val_binary_accuracy: 0.7559\n",
      "Epoch 12/100\n",
      "35/35 [==============================] - 0s 2ms/step - loss: 0.5141 - binary_accuracy: 0.7423 - val_loss: 0.5812 - val_binary_accuracy: 0.7160\n",
      "Epoch 13/100\n",
      "35/35 [==============================] - 0s 2ms/step - loss: 0.4928 - binary_accuracy: 0.7571 - val_loss: 0.5333 - val_binary_accuracy: 0.7347\n",
      "Epoch 14/100\n",
      "35/35 [==============================] - 0s 2ms/step - loss: 0.4837 - binary_accuracy: 0.7619 - val_loss: 0.5261 - val_binary_accuracy: 0.7300\n",
      "Epoch 15/100\n",
      "35/35 [==============================] - 0s 2ms/step - loss: 0.4785 - binary_accuracy: 0.7607 - val_loss: 0.4657 - val_binary_accuracy: 0.7582\n",
      "Epoch 16/100\n",
      "35/35 [==============================] - 0s 2ms/step - loss: 0.4747 - binary_accuracy: 0.7696 - val_loss: 0.4924 - val_binary_accuracy: 0.7582\n",
      "Epoch 17/100\n",
      "35/35 [==============================] - 0s 2ms/step - loss: 0.4695 - binary_accuracy: 0.7708 - val_loss: 0.4745 - val_binary_accuracy: 0.7606\n",
      "Epoch 18/100\n",
      "35/35 [==============================] - 0s 3ms/step - loss: 0.4768 - binary_accuracy: 0.7542 - val_loss: 0.5597 - val_binary_accuracy: 0.7300\n",
      "Epoch 19/100\n",
      "35/35 [==============================] - 0s 2ms/step - loss: 0.4588 - binary_accuracy: 0.7815 - val_loss: 0.4769 - val_binary_accuracy: 0.7746\n",
      "Epoch 20/100\n",
      "35/35 [==============================] - 0s 2ms/step - loss: 0.4628 - binary_accuracy: 0.7732 - val_loss: 0.4915 - val_binary_accuracy: 0.7559\n",
      "Epoch 21/100\n",
      "35/35 [==============================] - 0s 2ms/step - loss: 0.4935 - binary_accuracy: 0.7512 - val_loss: 0.4647 - val_binary_accuracy: 0.7653\n",
      "Epoch 22/100\n",
      "35/35 [==============================] - 0s 2ms/step - loss: 0.4666 - binary_accuracy: 0.7702 - val_loss: 0.4840 - val_binary_accuracy: 0.7723\n",
      "Epoch 23/100\n",
      "35/35 [==============================] - 0s 3ms/step - loss: 0.4640 - binary_accuracy: 0.7839 - val_loss: 0.4480 - val_binary_accuracy: 0.7958\n",
      "Epoch 24/100\n",
      "35/35 [==============================] - 0s 2ms/step - loss: 0.4558 - binary_accuracy: 0.7768 - val_loss: 0.4709 - val_binary_accuracy: 0.7817\n",
      "Epoch 25/100\n",
      "35/35 [==============================] - 0s 2ms/step - loss: 0.4627 - binary_accuracy: 0.7744 - val_loss: 0.4738 - val_binary_accuracy: 0.7770\n",
      "Epoch 26/100\n",
      "35/35 [==============================] - 0s 2ms/step - loss: 0.4585 - binary_accuracy: 0.7750 - val_loss: 0.5036 - val_binary_accuracy: 0.7582\n",
      "Epoch 27/100\n",
      "35/35 [==============================] - 0s 2ms/step - loss: 0.4468 - binary_accuracy: 0.7804 - val_loss: 0.4522 - val_binary_accuracy: 0.7887\n",
      "Epoch 28/100\n",
      "35/35 [==============================] - 0s 2ms/step - loss: 0.4502 - binary_accuracy: 0.7839 - val_loss: 0.4703 - val_binary_accuracy: 0.7817\n",
      "Epoch 29/100\n",
      "35/35 [==============================] - 0s 3ms/step - loss: 0.4419 - binary_accuracy: 0.7905 - val_loss: 0.4611 - val_binary_accuracy: 0.7981\n",
      "Epoch 30/100\n",
      "35/35 [==============================] - 0s 3ms/step - loss: 0.4623 - binary_accuracy: 0.7768 - val_loss: 0.5271 - val_binary_accuracy: 0.7324\n",
      "Epoch 31/100\n",
      "35/35 [==============================] - 0s 3ms/step - loss: 0.4502 - binary_accuracy: 0.7798 - val_loss: 0.4615 - val_binary_accuracy: 0.7793\n",
      "Epoch 32/100\n",
      "35/35 [==============================] - 0s 2ms/step - loss: 0.4427 - binary_accuracy: 0.7905 - val_loss: 0.4649 - val_binary_accuracy: 0.7793\n",
      "Epoch 33/100\n",
      "35/35 [==============================] - 0s 2ms/step - loss: 0.4445 - binary_accuracy: 0.7750 - val_loss: 0.4950 - val_binary_accuracy: 0.7653\n",
      "Epoch 34/100\n",
      "35/35 [==============================] - 0s 2ms/step - loss: 0.4294 - binary_accuracy: 0.7940 - val_loss: 0.4908 - val_binary_accuracy: 0.7700\n",
      "Epoch 35/100\n",
      "35/35 [==============================] - 0s 2ms/step - loss: 0.4323 - binary_accuracy: 0.7952 - val_loss: 0.4472 - val_binary_accuracy: 0.7723\n",
      "Epoch 36/100\n",
      "35/35 [==============================] - 0s 2ms/step - loss: 0.4370 - binary_accuracy: 0.7887 - val_loss: 0.4399 - val_binary_accuracy: 0.7981\n",
      "Epoch 37/100\n",
      "35/35 [==============================] - 0s 2ms/step - loss: 0.4307 - binary_accuracy: 0.7946 - val_loss: 0.4388 - val_binary_accuracy: 0.7817\n",
      "Epoch 38/100\n",
      "35/35 [==============================] - 0s 3ms/step - loss: 0.4249 - binary_accuracy: 0.8065 - val_loss: 0.4731 - val_binary_accuracy: 0.7746\n",
      "Epoch 39/100\n",
      "35/35 [==============================] - 0s 2ms/step - loss: 0.4261 - binary_accuracy: 0.7911 - val_loss: 0.4851 - val_binary_accuracy: 0.7746\n",
      "Epoch 40/100\n",
      "35/35 [==============================] - 0s 2ms/step - loss: 0.4254 - binary_accuracy: 0.8036 - val_loss: 0.4550 - val_binary_accuracy: 0.7700\n",
      "Epoch 41/100\n",
      "35/35 [==============================] - 0s 3ms/step - loss: 0.4238 - binary_accuracy: 0.7988 - val_loss: 0.4796 - val_binary_accuracy: 0.7746\n",
      "Epoch 42/100\n",
      "35/35 [==============================] - 0s 2ms/step - loss: 0.4262 - binary_accuracy: 0.7988 - val_loss: 0.4525 - val_binary_accuracy: 0.7817\n",
      "Epoch 43/100\n",
      "35/35 [==============================] - 0s 2ms/step - loss: 0.4132 - binary_accuracy: 0.8048 - val_loss: 0.4680 - val_binary_accuracy: 0.7817\n",
      "Epoch 44/100\n",
      "35/35 [==============================] - 0s 2ms/step - loss: 0.4226 - binary_accuracy: 0.7994 - val_loss: 0.4309 - val_binary_accuracy: 0.7934\n",
      "Epoch 45/100\n",
      "35/35 [==============================] - 0s 2ms/step - loss: 0.4210 - binary_accuracy: 0.8006 - val_loss: 0.4674 - val_binary_accuracy: 0.7770\n",
      "Epoch 46/100\n",
      "35/35 [==============================] - 0s 2ms/step - loss: 0.4214 - binary_accuracy: 0.8095 - val_loss: 0.4656 - val_binary_accuracy: 0.7864\n",
      "Epoch 47/100\n",
      "35/35 [==============================] - 0s 2ms/step - loss: 0.4273 - binary_accuracy: 0.8030 - val_loss: 0.4637 - val_binary_accuracy: 0.7887\n",
      "Epoch 48/100\n",
      "35/35 [==============================] - 0s 2ms/step - loss: 0.4162 - binary_accuracy: 0.8065 - val_loss: 0.4731 - val_binary_accuracy: 0.7770\n",
      "Epoch 49/100\n",
      "35/35 [==============================] - 0s 2ms/step - loss: 0.4344 - binary_accuracy: 0.7851 - val_loss: 0.4704 - val_binary_accuracy: 0.7840\n",
      "Epoch 50/100\n",
      "35/35 [==============================] - 0s 2ms/step - loss: 0.4189 - binary_accuracy: 0.8054 - val_loss: 0.4378 - val_binary_accuracy: 0.7934\n",
      "Epoch 51/100\n",
      "35/35 [==============================] - 0s 2ms/step - loss: 0.4105 - binary_accuracy: 0.8077 - val_loss: 0.4657 - val_binary_accuracy: 0.7770\n",
      "Epoch 52/100\n",
      "35/35 [==============================] - 0s 2ms/step - loss: 0.4160 - binary_accuracy: 0.8060 - val_loss: 0.4449 - val_binary_accuracy: 0.7911\n",
      "Epoch 53/100\n",
      "35/35 [==============================] - 0s 2ms/step - loss: 0.4188 - binary_accuracy: 0.7994 - val_loss: 0.4646 - val_binary_accuracy: 0.7817\n",
      "Epoch 54/100\n",
      "35/35 [==============================] - 0s 2ms/step - loss: 0.4019 - binary_accuracy: 0.8161 - val_loss: 0.4699 - val_binary_accuracy: 0.7770\n",
      "Epoch 55/100\n",
      "35/35 [==============================] - 0s 2ms/step - loss: 0.4025 - binary_accuracy: 0.8155 - val_loss: 0.4562 - val_binary_accuracy: 0.7746\n",
      "Epoch 56/100\n",
      "35/35 [==============================] - 0s 2ms/step - loss: 0.4146 - binary_accuracy: 0.8101 - val_loss: 0.4388 - val_binary_accuracy: 0.7958\n",
      "Epoch 57/100\n",
      "35/35 [==============================] - 0s 2ms/step - loss: 0.4076 - binary_accuracy: 0.8101 - val_loss: 0.4342 - val_binary_accuracy: 0.7887\n",
      "Epoch 58/100\n",
      "35/35 [==============================] - 0s 2ms/step - loss: 0.4026 - binary_accuracy: 0.8149 - val_loss: 0.4357 - val_binary_accuracy: 0.7958\n",
      "Epoch 59/100\n",
      "35/35 [==============================] - 0s 2ms/step - loss: 0.4001 - binary_accuracy: 0.8119 - val_loss: 0.4375 - val_binary_accuracy: 0.7911\n",
      "Epoch 60/100\n",
      "35/35 [==============================] - 0s 2ms/step - loss: 0.4041 - binary_accuracy: 0.8054 - val_loss: 0.4430 - val_binary_accuracy: 0.7911\n",
      "Epoch 61/100\n",
      "35/35 [==============================] - 0s 2ms/step - loss: 0.4052 - binary_accuracy: 0.8077 - val_loss: 0.4468 - val_binary_accuracy: 0.7746\n",
      "Epoch 62/100\n",
      "35/35 [==============================] - 0s 2ms/step - loss: 0.4065 - binary_accuracy: 0.8119 - val_loss: 0.4531 - val_binary_accuracy: 0.7911\n",
      "Epoch 63/100\n",
      "35/35 [==============================] - 0s 2ms/step - loss: 0.3971 - binary_accuracy: 0.8149 - val_loss: 0.4253 - val_binary_accuracy: 0.7958\n",
      "Epoch 64/100\n",
      "35/35 [==============================] - 0s 2ms/step - loss: 0.4073 - binary_accuracy: 0.8065 - val_loss: 0.5355 - val_binary_accuracy: 0.7488\n",
      "Epoch 65/100\n",
      "35/35 [==============================] - 0s 2ms/step - loss: 0.3988 - binary_accuracy: 0.8113 - val_loss: 0.4719 - val_binary_accuracy: 0.7700\n",
      "Epoch 66/100\n",
      "35/35 [==============================] - 0s 2ms/step - loss: 0.3988 - binary_accuracy: 0.8196 - val_loss: 0.4254 - val_binary_accuracy: 0.8028\n",
      "Epoch 67/100\n",
      "35/35 [==============================] - 0s 2ms/step - loss: 0.4015 - binary_accuracy: 0.8131 - val_loss: 0.4831 - val_binary_accuracy: 0.7817\n",
      "Epoch 68/100\n",
      "35/35 [==============================] - 0s 3ms/step - loss: 0.4031 - binary_accuracy: 0.8143 - val_loss: 0.4273 - val_binary_accuracy: 0.8052\n",
      "Epoch 69/100\n",
      "35/35 [==============================] - 0s 3ms/step - loss: 0.3900 - binary_accuracy: 0.8226 - val_loss: 0.4293 - val_binary_accuracy: 0.8005\n",
      "Epoch 70/100\n",
      "35/35 [==============================] - 0s 3ms/step - loss: 0.3927 - binary_accuracy: 0.8137 - val_loss: 0.4428 - val_binary_accuracy: 0.7840\n",
      "Epoch 71/100\n",
      "35/35 [==============================] - 0s 3ms/step - loss: 0.4018 - binary_accuracy: 0.8048 - val_loss: 0.4392 - val_binary_accuracy: 0.7887\n",
      "Epoch 72/100\n",
      "35/35 [==============================] - 0s 2ms/step - loss: 0.3946 - binary_accuracy: 0.8131 - val_loss: 0.4507 - val_binary_accuracy: 0.7934\n",
      "Epoch 73/100\n",
      "35/35 [==============================] - 0s 3ms/step - loss: 0.4124 - binary_accuracy: 0.8030 - val_loss: 0.5002 - val_binary_accuracy: 0.7606\n",
      "Epoch 74/100\n",
      "35/35 [==============================] - 0s 2ms/step - loss: 0.3937 - binary_accuracy: 0.8185 - val_loss: 0.4565 - val_binary_accuracy: 0.7793\n",
      "Epoch 75/100\n",
      "35/35 [==============================] - 0s 2ms/step - loss: 0.3912 - binary_accuracy: 0.8179 - val_loss: 0.4635 - val_binary_accuracy: 0.7700\n",
      "Epoch 76/100\n",
      "35/35 [==============================] - 0s 2ms/step - loss: 0.3968 - binary_accuracy: 0.8161 - val_loss: 0.4725 - val_binary_accuracy: 0.7746\n",
      "Epoch 77/100\n",
      "35/35 [==============================] - 0s 2ms/step - loss: 0.3953 - binary_accuracy: 0.8202 - val_loss: 0.4649 - val_binary_accuracy: 0.7887\n",
      "Epoch 78/100\n",
      "35/35 [==============================] - 0s 2ms/step - loss: 0.3924 - binary_accuracy: 0.8185 - val_loss: 0.4564 - val_binary_accuracy: 0.7911\n",
      "Epoch 79/100\n",
      "35/35 [==============================] - 0s 2ms/step - loss: 0.3885 - binary_accuracy: 0.8173 - val_loss: 0.4461 - val_binary_accuracy: 0.7887\n",
      "Epoch 80/100\n",
      "35/35 [==============================] - 0s 2ms/step - loss: 0.3864 - binary_accuracy: 0.8310 - val_loss: 0.4676 - val_binary_accuracy: 0.7793\n",
      "Epoch 81/100\n",
      "35/35 [==============================] - 0s 2ms/step - loss: 0.3778 - binary_accuracy: 0.8196 - val_loss: 0.4644 - val_binary_accuracy: 0.7817\n",
      "Epoch 82/100\n",
      "35/35 [==============================] - 0s 2ms/step - loss: 0.3875 - binary_accuracy: 0.8179 - val_loss: 0.4514 - val_binary_accuracy: 0.7864\n",
      "Epoch 83/100\n",
      "35/35 [==============================] - 0s 2ms/step - loss: 0.3756 - binary_accuracy: 0.8298 - val_loss: 0.4518 - val_binary_accuracy: 0.7817\n",
      "Epoch 84/100\n",
      "35/35 [==============================] - 0s 2ms/step - loss: 0.4172 - binary_accuracy: 0.8042 - val_loss: 0.4841 - val_binary_accuracy: 0.7887\n",
      "Epoch 85/100\n",
      "35/35 [==============================] - 0s 2ms/step - loss: 0.3882 - binary_accuracy: 0.8196 - val_loss: 0.4263 - val_binary_accuracy: 0.8028\n",
      "Epoch 86/100\n",
      "35/35 [==============================] - 0s 2ms/step - loss: 0.3891 - binary_accuracy: 0.8196 - val_loss: 0.4980 - val_binary_accuracy: 0.7864\n",
      "Epoch 87/100\n",
      "35/35 [==============================] - 0s 2ms/step - loss: 0.3819 - binary_accuracy: 0.8238 - val_loss: 0.4498 - val_binary_accuracy: 0.7887\n",
      "Epoch 88/100\n",
      "35/35 [==============================] - 0s 2ms/step - loss: 0.3915 - binary_accuracy: 0.8119 - val_loss: 0.4928 - val_binary_accuracy: 0.7817\n"
     ]
    }
   ],
   "source": [
    "# train\n",
    "history = model.fit(X_train, y_train,\n",
    "                    batch_size=8,\n",
    "                    epochs=100,\n",
    "                    verbose=1,\n",
    "                    validation_split=.2,\n",
    "                    callbacks=[callback])"
   ],
   "metadata": {
    "collapsed": false,
    "pycharm": {
     "name": "#%%\n"
    }
   }
  },
  {
   "cell_type": "code",
   "execution_count": 158,
   "outputs": [],
   "source": [
    "# save or load model\n",
    "model.save('output/emotions-model.h5')\n",
    "model = load_model('output/emotions-model.h5')"
   ],
   "metadata": {
    "collapsed": false,
    "pycharm": {
     "name": "#%%\n"
    }
   }
  },
  {
   "cell_type": "code",
   "execution_count": 159,
   "outputs": [],
   "source": [
    "# predict\n",
    "y_pred = model.predict(X_test)\n",
    "y_pred = np.where(y_pred > 0.5, 1, 0)"
   ],
   "metadata": {
    "collapsed": false,
    "pycharm": {
     "name": "#%%\n"
    }
   }
  },
  {
   "cell_type": "code",
   "execution_count": 160,
   "outputs": [
    {
     "name": "stdout",
     "output_type": "stream",
     "text": [
      "Binary accuracy:  tf.Tensor(0.7916667, shape=(), dtype=float32)\n",
      "Pattern accuracy:  0.25\n"
     ]
    }
   ],
   "source": [
    "# evaluate\n",
    "print(\"Binary accuracy: \", binary_accuracy(y_test, y_pred))\n",
    "print(\"Pattern accuracy: \",pattern_accuracy(y_test, y_pred))"
   ],
   "metadata": {
    "collapsed": false,
    "pycharm": {
     "name": "#%%\n"
    }
   }
  }
 ],
 "metadata": {
  "kernelspec": {
   "display_name": "Python 3",
   "language": "python",
   "name": "python3"
  },
  "language_info": {
   "codemirror_mode": {
    "name": "ipython",
    "version": 2
   },
   "file_extension": ".py",
   "mimetype": "text/x-python",
   "name": "python",
   "nbconvert_exporter": "python",
   "pygments_lexer": "ipython2",
   "version": "2.7.6"
  }
 },
 "nbformat": 4,
 "nbformat_minor": 0
}