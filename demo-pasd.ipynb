{
 "cells": [
  {
   "cell_type": "code",
   "execution_count": 161,
   "metadata": {
    "collapsed": true
   },
   "outputs": [],
   "source": [
    "import numpy as np\n",
    "import pandas as pd\n",
    "from scipy.io.arff import loadarff\n",
    "import tensorflow as tf\n",
    "from keras.layers import Dense\n",
    "from keras.models import Sequential, load_model\n",
    "from sklearn.model_selection import train_test_split"
   ]
  },
  {
   "cell_type": "code",
   "execution_count": 162,
   "outputs": [],
   "source": [
    "# util functions\n",
    "def normalize(df):\n",
    "    result = df.copy()\n",
    "    for feature_name in df.columns:\n",
    "        max_value = df[feature_name].max()\n",
    "        min_value = df[feature_name].min()\n",
    "        result[feature_name] = (df[feature_name] - min_value) / (max_value - min_value)\n",
    "    return result\n",
    "\n",
    "\n",
    "def pattern_accuracy(y_true, y_pred):\n",
    "    return np.sum(np.all(y_true == y_pred, axis=1)) / y_true.shape[0]\n",
    "\n",
    "\n",
    "tf.keras.metrics.BinaryAccuracy(\n",
    "    name=\"binary_accuracy\", dtype=None, threshold=0.5\n",
    ")\n",
    "binary_accuracy = tf.keras.metrics.BinaryAccuracy()"
   ],
   "metadata": {
    "collapsed": false,
    "pycharm": {
     "name": "#%%\n"
    }
   }
  },
  {
   "cell_type": "code",
   "execution_count": 163,
   "outputs": [],
   "source": [
    "# import data\n",
    "raw_data = loadarff(\"emotions_train.arff\")\n",
    "df = pd.DataFrame(raw_data[0])"
   ],
   "metadata": {
    "collapsed": false,
    "pycharm": {
     "name": "#%%\n"
    }
   }
  },
  {
   "cell_type": "code",
   "execution_count": 164,
   "outputs": [],
   "source": [
    "# preprocess data, normalize input to 0-1 scale\n",
    "X = df.iloc[:,:-6]\n",
    "X = normalize(X)\n",
    "\n",
    "y = df.iloc[:, 72:]\n",
    "for col in y.columns:\n",
    "    y[col] = y[col].apply(lambda x: int(x.decode('utf-8')))"
   ],
   "metadata": {
    "collapsed": false,
    "pycharm": {
     "name": "#%%\n"
    }
   }
  },
  {
   "cell_type": "code",
   "execution_count": 165,
   "outputs": [],
   "source": [
    "# split data into train/val\n",
    "X_train, X_test, y_train, y_test = train_test_split(X, y, test_size=0.1, random_state=42)"
   ],
   "metadata": {
    "collapsed": false,
    "pycharm": {
     "name": "#%%\n"
    }
   }
  },
  {
   "cell_type": "code",
   "execution_count": 166,
   "outputs": [
    {
     "name": "stdout",
     "output_type": "stream",
     "text": [
      "Model: \"sequential_16\"\n",
      "_________________________________________________________________\n",
      " Layer (type)                Output Shape              Param #   \n",
      "=================================================================\n",
      " dense_36 (Dense)            (None, 512)               37376     \n",
      "                                                                 \n",
      " dense_37 (Dense)            (None, 6)                 3078      \n",
      "                                                                 \n",
      "=================================================================\n",
      "Total params: 40,454\n",
      "Trainable params: 40,454\n",
      "Non-trainable params: 0\n",
      "_________________________________________________________________\n"
     ]
    }
   ],
   "source": [
    "# build model\n",
    "callback = tf.keras.callbacks.EarlyStopping(monitor='val_loss', patience=25)\n",
    "model = Sequential()\n",
    "model.add(Dense(512, input_dim=X_train.shape[1], kernel_initializer='uniform', activation='sigmoid'))\n",
    "model.add(Dense(y_train.shape[1], kernel_initializer='uniform', activation='sigmoid'))\n",
    "model.compile(optimizer='adam', loss='binary_crossentropy', metrics=['binary_accuracy'])\n",
    "model.summary()"
   ],
   "metadata": {
    "collapsed": false,
    "pycharm": {
     "name": "#%%\n"
    }
   }
  },
  {
   "cell_type": "code",
   "execution_count": 167,
   "outputs": [
    {
     "name": "stdout",
     "output_type": "stream",
     "text": [
      "Epoch 1/100\n",
      "35/35 [==============================] - 0s 7ms/step - loss: 0.6201 - binary_accuracy: 0.6810 - val_loss: 0.6105 - val_binary_accuracy: 0.7300\n",
      "Epoch 2/100\n",
      "35/35 [==============================] - 0s 2ms/step - loss: 0.5953 - binary_accuracy: 0.6935 - val_loss: 0.5489 - val_binary_accuracy: 0.7512\n",
      "Epoch 3/100\n",
      "35/35 [==============================] - 0s 2ms/step - loss: 0.5796 - binary_accuracy: 0.7071 - val_loss: 0.5371 - val_binary_accuracy: 0.7465\n",
      "Epoch 4/100\n",
      "35/35 [==============================] - 0s 2ms/step - loss: 0.5581 - binary_accuracy: 0.7173 - val_loss: 0.5477 - val_binary_accuracy: 0.7277\n",
      "Epoch 5/100\n",
      "35/35 [==============================] - 0s 4ms/step - loss: 0.5469 - binary_accuracy: 0.7149 - val_loss: 0.5216 - val_binary_accuracy: 0.7535\n",
      "Epoch 6/100\n",
      "35/35 [==============================] - 0s 4ms/step - loss: 0.5275 - binary_accuracy: 0.7280 - val_loss: 0.5043 - val_binary_accuracy: 0.7512\n",
      "Epoch 7/100\n",
      "35/35 [==============================] - 0s 3ms/step - loss: 0.5125 - binary_accuracy: 0.7440 - val_loss: 0.4677 - val_binary_accuracy: 0.7887\n",
      "Epoch 8/100\n",
      "35/35 [==============================] - 0s 3ms/step - loss: 0.5099 - binary_accuracy: 0.7482 - val_loss: 0.4616 - val_binary_accuracy: 0.7676\n",
      "Epoch 9/100\n",
      "35/35 [==============================] - 0s 3ms/step - loss: 0.4988 - binary_accuracy: 0.7589 - val_loss: 0.4614 - val_binary_accuracy: 0.7700\n",
      "Epoch 10/100\n",
      "35/35 [==============================] - 0s 3ms/step - loss: 0.4853 - binary_accuracy: 0.7637 - val_loss: 0.4919 - val_binary_accuracy: 0.7629\n",
      "Epoch 11/100\n",
      "35/35 [==============================] - 0s 2ms/step - loss: 0.4792 - binary_accuracy: 0.7643 - val_loss: 0.4605 - val_binary_accuracy: 0.7700\n",
      "Epoch 12/100\n",
      "35/35 [==============================] - 0s 2ms/step - loss: 0.4723 - binary_accuracy: 0.7738 - val_loss: 0.4551 - val_binary_accuracy: 0.7559\n",
      "Epoch 13/100\n",
      "35/35 [==============================] - 0s 2ms/step - loss: 0.4676 - binary_accuracy: 0.7702 - val_loss: 0.4447 - val_binary_accuracy: 0.8075\n",
      "Epoch 14/100\n",
      "35/35 [==============================] - 0s 2ms/step - loss: 0.4618 - binary_accuracy: 0.7815 - val_loss: 0.4424 - val_binary_accuracy: 0.7864\n",
      "Epoch 15/100\n",
      "35/35 [==============================] - 0s 2ms/step - loss: 0.4665 - binary_accuracy: 0.7750 - val_loss: 0.4401 - val_binary_accuracy: 0.7958\n",
      "Epoch 16/100\n",
      "35/35 [==============================] - 0s 2ms/step - loss: 0.4565 - binary_accuracy: 0.7786 - val_loss: 0.4464 - val_binary_accuracy: 0.7817\n",
      "Epoch 17/100\n",
      "35/35 [==============================] - 0s 3ms/step - loss: 0.4556 - binary_accuracy: 0.7839 - val_loss: 0.4587 - val_binary_accuracy: 0.7629\n",
      "Epoch 18/100\n",
      "35/35 [==============================] - 0s 4ms/step - loss: 0.4535 - binary_accuracy: 0.7863 - val_loss: 0.4481 - val_binary_accuracy: 0.7629\n",
      "Epoch 19/100\n",
      "35/35 [==============================] - 0s 3ms/step - loss: 0.4526 - binary_accuracy: 0.7827 - val_loss: 0.4368 - val_binary_accuracy: 0.7817\n",
      "Epoch 20/100\n",
      "35/35 [==============================] - 0s 3ms/step - loss: 0.4450 - binary_accuracy: 0.7940 - val_loss: 0.4278 - val_binary_accuracy: 0.8005\n",
      "Epoch 21/100\n",
      "35/35 [==============================] - 0s 2ms/step - loss: 0.4442 - binary_accuracy: 0.7917 - val_loss: 0.4418 - val_binary_accuracy: 0.7817\n",
      "Epoch 22/100\n",
      "35/35 [==============================] - 0s 4ms/step - loss: 0.4368 - binary_accuracy: 0.7911 - val_loss: 0.4585 - val_binary_accuracy: 0.7723\n",
      "Epoch 23/100\n",
      "35/35 [==============================] - 0s 3ms/step - loss: 0.4390 - binary_accuracy: 0.7976 - val_loss: 0.4336 - val_binary_accuracy: 0.7911\n",
      "Epoch 24/100\n",
      "35/35 [==============================] - 0s 3ms/step - loss: 0.4377 - binary_accuracy: 0.7929 - val_loss: 0.4286 - val_binary_accuracy: 0.8005\n",
      "Epoch 25/100\n",
      "35/35 [==============================] - 0s 3ms/step - loss: 0.4365 - binary_accuracy: 0.7964 - val_loss: 0.4288 - val_binary_accuracy: 0.8028\n",
      "Epoch 26/100\n",
      "35/35 [==============================] - 0s 2ms/step - loss: 0.4289 - binary_accuracy: 0.8024 - val_loss: 0.4350 - val_binary_accuracy: 0.7864\n",
      "Epoch 27/100\n",
      "35/35 [==============================] - 0s 2ms/step - loss: 0.4275 - binary_accuracy: 0.7994 - val_loss: 0.4408 - val_binary_accuracy: 0.7911\n",
      "Epoch 28/100\n",
      "35/35 [==============================] - 0s 2ms/step - loss: 0.4273 - binary_accuracy: 0.8042 - val_loss: 0.4418 - val_binary_accuracy: 0.7887\n",
      "Epoch 29/100\n",
      "35/35 [==============================] - 0s 3ms/step - loss: 0.4217 - binary_accuracy: 0.8048 - val_loss: 0.4344 - val_binary_accuracy: 0.7887\n",
      "Epoch 30/100\n",
      "35/35 [==============================] - 0s 2ms/step - loss: 0.4195 - binary_accuracy: 0.8071 - val_loss: 0.4295 - val_binary_accuracy: 0.8028\n",
      "Epoch 31/100\n",
      "35/35 [==============================] - 0s 2ms/step - loss: 0.4246 - binary_accuracy: 0.8030 - val_loss: 0.4243 - val_binary_accuracy: 0.8075\n",
      "Epoch 32/100\n",
      "35/35 [==============================] - 0s 2ms/step - loss: 0.4169 - binary_accuracy: 0.8131 - val_loss: 0.4331 - val_binary_accuracy: 0.7887\n",
      "Epoch 33/100\n",
      "35/35 [==============================] - 0s 2ms/step - loss: 0.4180 - binary_accuracy: 0.8060 - val_loss: 0.4295 - val_binary_accuracy: 0.7911\n",
      "Epoch 34/100\n",
      "35/35 [==============================] - 0s 2ms/step - loss: 0.4141 - binary_accuracy: 0.8119 - val_loss: 0.4359 - val_binary_accuracy: 0.7840\n",
      "Epoch 35/100\n",
      "35/35 [==============================] - 0s 2ms/step - loss: 0.4135 - binary_accuracy: 0.8101 - val_loss: 0.4377 - val_binary_accuracy: 0.7981\n",
      "Epoch 36/100\n",
      "35/35 [==============================] - 0s 2ms/step - loss: 0.4126 - binary_accuracy: 0.8030 - val_loss: 0.4346 - val_binary_accuracy: 0.7981\n",
      "Epoch 37/100\n",
      "35/35 [==============================] - 0s 2ms/step - loss: 0.4114 - binary_accuracy: 0.8143 - val_loss: 0.4342 - val_binary_accuracy: 0.7793\n",
      "Epoch 38/100\n",
      "35/35 [==============================] - 0s 2ms/step - loss: 0.4173 - binary_accuracy: 0.8083 - val_loss: 0.4291 - val_binary_accuracy: 0.7934\n",
      "Epoch 39/100\n",
      "35/35 [==============================] - 0s 2ms/step - loss: 0.4070 - binary_accuracy: 0.8060 - val_loss: 0.4282 - val_binary_accuracy: 0.7911\n",
      "Epoch 40/100\n",
      "35/35 [==============================] - 0s 2ms/step - loss: 0.4040 - binary_accuracy: 0.8190 - val_loss: 0.4390 - val_binary_accuracy: 0.7958\n",
      "Epoch 41/100\n",
      "35/35 [==============================] - 0s 2ms/step - loss: 0.4080 - binary_accuracy: 0.8167 - val_loss: 0.4454 - val_binary_accuracy: 0.7887\n",
      "Epoch 42/100\n",
      "35/35 [==============================] - 0s 2ms/step - loss: 0.4034 - binary_accuracy: 0.8202 - val_loss: 0.4451 - val_binary_accuracy: 0.7840\n",
      "Epoch 43/100\n",
      "35/35 [==============================] - 0s 2ms/step - loss: 0.4073 - binary_accuracy: 0.8179 - val_loss: 0.4479 - val_binary_accuracy: 0.7887\n",
      "Epoch 44/100\n",
      "35/35 [==============================] - 0s 2ms/step - loss: 0.4042 - binary_accuracy: 0.8232 - val_loss: 0.4302 - val_binary_accuracy: 0.7934\n",
      "Epoch 45/100\n",
      "35/35 [==============================] - 0s 2ms/step - loss: 0.4057 - binary_accuracy: 0.8065 - val_loss: 0.4363 - val_binary_accuracy: 0.7934\n",
      "Epoch 46/100\n",
      "35/35 [==============================] - 0s 3ms/step - loss: 0.3983 - binary_accuracy: 0.8161 - val_loss: 0.4304 - val_binary_accuracy: 0.7840\n",
      "Epoch 47/100\n",
      "35/35 [==============================] - 0s 2ms/step - loss: 0.3962 - binary_accuracy: 0.8238 - val_loss: 0.4365 - val_binary_accuracy: 0.7864\n",
      "Epoch 48/100\n",
      "35/35 [==============================] - 0s 2ms/step - loss: 0.3969 - binary_accuracy: 0.8137 - val_loss: 0.4280 - val_binary_accuracy: 0.8028\n",
      "Epoch 49/100\n",
      "35/35 [==============================] - 0s 2ms/step - loss: 0.3999 - binary_accuracy: 0.8232 - val_loss: 0.4336 - val_binary_accuracy: 0.7887\n",
      "Epoch 50/100\n",
      "35/35 [==============================] - 0s 2ms/step - loss: 0.3991 - binary_accuracy: 0.8226 - val_loss: 0.4345 - val_binary_accuracy: 0.7958\n",
      "Epoch 51/100\n",
      "35/35 [==============================] - 0s 2ms/step - loss: 0.3913 - binary_accuracy: 0.8220 - val_loss: 0.4429 - val_binary_accuracy: 0.8005\n",
      "Epoch 52/100\n",
      "35/35 [==============================] - 0s 2ms/step - loss: 0.3977 - binary_accuracy: 0.8196 - val_loss: 0.4316 - val_binary_accuracy: 0.7817\n",
      "Epoch 53/100\n",
      "35/35 [==============================] - 0s 2ms/step - loss: 0.3977 - binary_accuracy: 0.8137 - val_loss: 0.4362 - val_binary_accuracy: 0.7887\n",
      "Epoch 54/100\n",
      "35/35 [==============================] - 0s 2ms/step - loss: 0.3914 - binary_accuracy: 0.8238 - val_loss: 0.4388 - val_binary_accuracy: 0.7864\n",
      "Epoch 55/100\n",
      "35/35 [==============================] - 0s 2ms/step - loss: 0.3894 - binary_accuracy: 0.8226 - val_loss: 0.4482 - val_binary_accuracy: 0.7934\n",
      "Epoch 56/100\n",
      "35/35 [==============================] - 0s 2ms/step - loss: 0.3888 - binary_accuracy: 0.8226 - val_loss: 0.4264 - val_binary_accuracy: 0.7887\n"
     ]
    }
   ],
   "source": [
    "# train\n",
    "history = model.fit(X_train, y_train,\n",
    "                    batch_size=8,\n",
    "                    epochs=100,\n",
    "                    verbose=1,\n",
    "                    validation_split=.2,\n",
    "                    callbacks=[callback])"
   ],
   "metadata": {
    "collapsed": false,
    "pycharm": {
     "name": "#%%\n"
    }
   }
  },
  {
   "cell_type": "code",
   "execution_count": 168,
   "outputs": [],
   "source": [
    "# save or load model\n",
    "model.save('output/emotions-model.h5')\n",
    "model = load_model('output/emotions-model.h5')"
   ],
   "metadata": {
    "collapsed": false,
    "pycharm": {
     "name": "#%%\n"
    }
   }
  },
  {
   "cell_type": "code",
   "execution_count": 169,
   "outputs": [],
   "source": [
    "# predict\n",
    "y_pred = model.predict(X_test)\n",
    "y_pred = np.where(y_pred > 0.5, 1, 0)"
   ],
   "metadata": {
    "collapsed": false,
    "pycharm": {
     "name": "#%%\n"
    }
   }
  },
  {
   "cell_type": "code",
   "execution_count": 170,
   "outputs": [
    {
     "name": "stdout",
     "output_type": "stream",
     "text": [
      "Binary accuracy:  tf.Tensor(0.7916667, shape=(), dtype=float32)\n",
      "Pattern accuracy:  0.225\n"
     ]
    }
   ],
   "source": [
    "# evaluate\n",
    "print(\"Binary accuracy: \", binary_accuracy(y_test, y_pred))\n",
    "print(\"Pattern accuracy: \",pattern_accuracy(y_test, y_pred))"
   ],
   "metadata": {
    "collapsed": false,
    "pycharm": {
     "name": "#%%\n"
    }
   }
  }
 ],
 "metadata": {
  "kernelspec": {
   "display_name": "Python 3",
   "language": "python",
   "name": "python3"
  },
  "language_info": {
   "codemirror_mode": {
    "name": "ipython",
    "version": 2
   },
   "file_extension": ".py",
   "mimetype": "text/x-python",
   "name": "python",
   "nbconvert_exporter": "python",
   "pygments_lexer": "ipython2",
   "version": "2.7.6"
  }
 },
 "nbformat": 4,
 "nbformat_minor": 0
}