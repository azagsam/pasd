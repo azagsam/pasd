{
 "cells": [
  {
   "cell_type": "code",
   "execution_count": 51,
   "metadata": {
    "collapsed": true
   },
   "outputs": [],
   "source": [
    "import numpy as np\n",
    "import pandas as pd\n",
    "from scipy.io.arff import loadarff\n",
    "import tensorflow as tf\n",
    "from keras.layers import Dense\n",
    "from keras.models import Sequential, load_model\n",
    "from sklearn.model_selection import train_test_split"
   ]
  },
  {
   "cell_type": "code",
   "execution_count": 52,
   "outputs": [],
   "source": [
    "# util functions\n",
    "def normalize(df):\n",
    "    result = df.copy()\n",
    "    for feature_name in df.columns:\n",
    "        max_value = df[feature_name].max()\n",
    "        min_value = df[feature_name].min()\n",
    "        result[feature_name] = (df[feature_name] - min_value) / (max_value - min_value)\n",
    "    return result\n",
    "\n",
    "\n",
    "def pattern_accuracy(y_true, y_pred):\n",
    "    return np.sum(np.all(y_true == y_pred, axis=1)) / y_true.shape[0]\n",
    "\n",
    "\n",
    "tf.keras.metrics.BinaryAccuracy(\n",
    "    name=\"binary_accuracy\", dtype=None, threshold=0.5\n",
    ")\n",
    "binary_accuracy = tf.keras.metrics.BinaryAccuracy()"
   ],
   "metadata": {
    "collapsed": false,
    "pycharm": {
     "name": "#%%\n"
    }
   }
  },
  {
   "cell_type": "code",
   "execution_count": 53,
   "outputs": [],
   "source": [
    "# import data\n",
    "raw_data = loadarff(\"emotions_train.arff\")\n",
    "df = pd.DataFrame(raw_data[0])"
   ],
   "metadata": {
    "collapsed": false,
    "pycharm": {
     "name": "#%%\n"
    }
   }
  },
  {
   "cell_type": "code",
   "execution_count": 54,
   "outputs": [],
   "source": [
    "# preprocess data, normalize input to 0-1 scale\n",
    "X = df.iloc[:,:-6]\n",
    "norm_X = normalize(X)\n",
    "\n",
    "y = df.iloc[:, 72:]\n",
    "for col in y.columns:\n",
    "    y[col] = y[col].apply(lambda x: int(x.decode('utf-8')))"
   ],
   "metadata": {
    "collapsed": false,
    "pycharm": {
     "name": "#%%\n"
    }
   }
  },
  {
   "cell_type": "code",
   "execution_count": 55,
   "outputs": [],
   "source": [
    "# split data into train/val\n",
    "X_train, X_test, y_train, y_test = train_test_split(X, y, test_size=0.1, random_state=42)"
   ],
   "metadata": {
    "collapsed": false,
    "pycharm": {
     "name": "#%%\n"
    }
   }
  },
  {
   "cell_type": "code",
   "execution_count": 56,
   "outputs": [
    {
     "name": "stdout",
     "output_type": "stream",
     "text": [
      "Model: \"sequential_5\"\n",
      "_________________________________________________________________\n",
      " Layer (type)                Output Shape              Param #   \n",
      "=================================================================\n",
      " dense_10 (Dense)            (None, 128)               9344      \n",
      "                                                                 \n",
      " dense_11 (Dense)            (None, 6)                 774       \n",
      "                                                                 \n",
      "=================================================================\n",
      "Total params: 10,118\n",
      "Trainable params: 10,118\n",
      "Non-trainable params: 0\n",
      "_________________________________________________________________\n"
     ]
    }
   ],
   "source": [
    "# build model\n",
    "callback = tf.keras.callbacks.EarlyStopping(monitor='val_loss', patience=5)\n",
    "model = Sequential()\n",
    "model.add(Dense(128, input_dim=X_train.shape[1], kernel_initializer='uniform', activation='sigmoid'))\n",
    "model.add(Dense(y_train.shape[1], kernel_initializer='uniform', activation='sigmoid'))\n",
    "model.compile(optimizer='adam', loss='binary_crossentropy', metrics=['binary_accuracy'])\n",
    "model.summary()"
   ],
   "metadata": {
    "collapsed": false,
    "pycharm": {
     "name": "#%%\n"
    }
   }
  },
  {
   "cell_type": "code",
   "execution_count": 57,
   "outputs": [
    {
     "name": "stdout",
     "output_type": "stream",
     "text": [
      "Epoch 1/100\n",
      "70/70 [==============================] - 1s 4ms/step - loss: 0.6188 - binary_accuracy: 0.6768 - val_loss: 0.6098 - val_binary_accuracy: 0.6667\n",
      "Epoch 2/100\n",
      "70/70 [==============================] - 0s 2ms/step - loss: 0.6087 - binary_accuracy: 0.6923 - val_loss: 0.5715 - val_binary_accuracy: 0.7371\n",
      "Epoch 3/100\n",
      "70/70 [==============================] - 0s 2ms/step - loss: 0.6007 - binary_accuracy: 0.6964 - val_loss: 0.5610 - val_binary_accuracy: 0.7394\n",
      "Epoch 4/100\n",
      "70/70 [==============================] - 0s 2ms/step - loss: 0.5769 - binary_accuracy: 0.7024 - val_loss: 0.5389 - val_binary_accuracy: 0.7418\n",
      "Epoch 5/100\n",
      "70/70 [==============================] - 0s 3ms/step - loss: 0.5626 - binary_accuracy: 0.7107 - val_loss: 0.5356 - val_binary_accuracy: 0.7441\n",
      "Epoch 6/100\n",
      "70/70 [==============================] - 0s 3ms/step - loss: 0.5428 - binary_accuracy: 0.7196 - val_loss: 0.5055 - val_binary_accuracy: 0.7465\n",
      "Epoch 7/100\n",
      "70/70 [==============================] - 0s 3ms/step - loss: 0.5245 - binary_accuracy: 0.7351 - val_loss: 0.5120 - val_binary_accuracy: 0.7653\n",
      "Epoch 8/100\n",
      "70/70 [==============================] - 0s 3ms/step - loss: 0.5209 - binary_accuracy: 0.7446 - val_loss: 0.5343 - val_binary_accuracy: 0.7465\n",
      "Epoch 9/100\n",
      "70/70 [==============================] - 0s 2ms/step - loss: 0.5077 - binary_accuracy: 0.7470 - val_loss: 0.4782 - val_binary_accuracy: 0.7559\n",
      "Epoch 10/100\n",
      "70/70 [==============================] - 0s 2ms/step - loss: 0.5115 - binary_accuracy: 0.7375 - val_loss: 0.5475 - val_binary_accuracy: 0.7207\n",
      "Epoch 11/100\n",
      "70/70 [==============================] - 0s 2ms/step - loss: 0.4968 - binary_accuracy: 0.7583 - val_loss: 0.4750 - val_binary_accuracy: 0.7817\n",
      "Epoch 12/100\n",
      "70/70 [==============================] - 0s 2ms/step - loss: 0.4916 - binary_accuracy: 0.7518 - val_loss: 0.4712 - val_binary_accuracy: 0.7864\n",
      "Epoch 13/100\n",
      "70/70 [==============================] - 0s 2ms/step - loss: 0.4852 - binary_accuracy: 0.7673 - val_loss: 0.4676 - val_binary_accuracy: 0.7653\n",
      "Epoch 14/100\n",
      "70/70 [==============================] - 0s 2ms/step - loss: 0.4847 - binary_accuracy: 0.7542 - val_loss: 0.4824 - val_binary_accuracy: 0.7488\n",
      "Epoch 15/100\n",
      "70/70 [==============================] - 0s 2ms/step - loss: 0.4874 - binary_accuracy: 0.7613 - val_loss: 0.4831 - val_binary_accuracy: 0.7606\n",
      "Epoch 16/100\n",
      "70/70 [==============================] - 0s 2ms/step - loss: 0.4800 - binary_accuracy: 0.7714 - val_loss: 0.4849 - val_binary_accuracy: 0.7512\n",
      "Epoch 17/100\n",
      "70/70 [==============================] - 0s 2ms/step - loss: 0.4806 - binary_accuracy: 0.7589 - val_loss: 0.4889 - val_binary_accuracy: 0.7512\n",
      "Epoch 18/100\n",
      "70/70 [==============================] - 0s 2ms/step - loss: 0.4707 - binary_accuracy: 0.7696 - val_loss: 0.4601 - val_binary_accuracy: 0.7676\n",
      "Epoch 19/100\n",
      "70/70 [==============================] - 0s 2ms/step - loss: 0.4757 - binary_accuracy: 0.7661 - val_loss: 0.4909 - val_binary_accuracy: 0.7535\n",
      "Epoch 20/100\n",
      "70/70 [==============================] - 0s 2ms/step - loss: 0.4656 - binary_accuracy: 0.7726 - val_loss: 0.4875 - val_binary_accuracy: 0.7606\n",
      "Epoch 21/100\n",
      "70/70 [==============================] - 0s 2ms/step - loss: 0.4724 - binary_accuracy: 0.7601 - val_loss: 0.4588 - val_binary_accuracy: 0.7629\n",
      "Epoch 22/100\n",
      "70/70 [==============================] - 0s 2ms/step - loss: 0.4570 - binary_accuracy: 0.7738 - val_loss: 0.5190 - val_binary_accuracy: 0.7347\n",
      "Epoch 23/100\n",
      "70/70 [==============================] - 0s 2ms/step - loss: 0.4659 - binary_accuracy: 0.7720 - val_loss: 0.4602 - val_binary_accuracy: 0.7606\n",
      "Epoch 24/100\n",
      "70/70 [==============================] - 0s 2ms/step - loss: 0.4732 - binary_accuracy: 0.7661 - val_loss: 0.4612 - val_binary_accuracy: 0.7793\n",
      "Epoch 25/100\n",
      "70/70 [==============================] - 0s 2ms/step - loss: 0.4581 - binary_accuracy: 0.7810 - val_loss: 0.5120 - val_binary_accuracy: 0.7441\n",
      "Epoch 26/100\n",
      "70/70 [==============================] - 0s 2ms/step - loss: 0.4496 - binary_accuracy: 0.7815 - val_loss: 0.4907 - val_binary_accuracy: 0.7535\n"
     ]
    }
   ],
   "source": [
    "# train\n",
    "history = model.fit(X_train, y_train,\n",
    "                    batch_size=4,\n",
    "                    epochs=100,\n",
    "                    verbose=1,\n",
    "                    validation_split=.2,\n",
    "                    callbacks=[callback])"
   ],
   "metadata": {
    "collapsed": false,
    "pycharm": {
     "name": "#%%\n"
    }
   }
  },
  {
   "cell_type": "code",
   "execution_count": 58,
   "outputs": [],
   "source": [
    "# save or load model\n",
    "model.save('output/emotions-model.h5')\n",
    "model = load_model('output/emotions-model.h5')"
   ],
   "metadata": {
    "collapsed": false,
    "pycharm": {
     "name": "#%%\n"
    }
   }
  },
  {
   "cell_type": "code",
   "execution_count": 59,
   "outputs": [
    {
     "name": "stdout",
     "output_type": "stream",
     "text": [
      "WARNING:tensorflow:6 out of the last 11 calls to <function Model.make_predict_function.<locals>.predict_function at 0x000001D31EEDD9D0> triggered tf.function retracing. Tracing is expensive and the excessive number of tracings could be due to (1) creating @tf.function repeatedly in a loop, (2) passing tensors with different shapes, (3) passing Python objects instead of tensors. For (1), please define your @tf.function outside of the loop. For (2), @tf.function has experimental_relax_shapes=True option that relaxes argument shapes that can avoid unnecessary retracing. For (3), please refer to https://www.tensorflow.org/guide/function#controlling_retracing and https://www.tensorflow.org/api_docs/python/tf/function for  more details.\n"
     ]
    }
   ],
   "source": [
    "# predict\n",
    "y_pred = model.predict(X_test)\n",
    "y_pred = np.where(y_pred > 0.5, 1, 0)"
   ],
   "metadata": {
    "collapsed": false,
    "pycharm": {
     "name": "#%%\n"
    }
   }
  },
  {
   "cell_type": "code",
   "execution_count": 60,
   "outputs": [
    {
     "name": "stdout",
     "output_type": "stream",
     "text": [
      "Binary accuracy:  tf.Tensor(0.7625, shape=(), dtype=float32)\n",
      "Pattern accuracy:  0.225\n"
     ]
    }
   ],
   "source": [
    "# evaluate\n",
    "print(\"Binary accuracy: \", binary_accuracy(y_test, y_pred))\n",
    "print(\"Pattern accuracy: \",pattern_accuracy(y_test, y_pred))"
   ],
   "metadata": {
    "collapsed": false,
    "pycharm": {
     "name": "#%%\n"
    }
   }
  }
 ],
 "metadata": {
  "kernelspec": {
   "display_name": "Python 3",
   "language": "python",
   "name": "python3"
  },
  "language_info": {
   "codemirror_mode": {
    "name": "ipython",
    "version": 2
   },
   "file_extension": ".py",
   "mimetype": "text/x-python",
   "name": "python",
   "nbconvert_exporter": "python",
   "pygments_lexer": "ipython2",
   "version": "2.7.6"
  }
 },
 "nbformat": 4,
 "nbformat_minor": 0
}